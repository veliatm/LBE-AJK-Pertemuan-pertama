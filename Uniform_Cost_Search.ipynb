{
  "nbformat": 4,
  "nbformat_minor": 0,
  "metadata": {
    "colab": {
      "name": "Uniform Cost Search.ipynb",
      "provenance": [],
      "collapsed_sections": [],
      "include_colab_link": true
    },
    "kernelspec": {
      "name": "python3",
      "display_name": "Python 3"
    }
  },
  "cells": [
    {
      "cell_type": "markdown",
      "metadata": {
        "id": "view-in-github",
        "colab_type": "text"
      },
      "source": [
        "<a href=\"https://colab.research.google.com/github/veliatm/LBE-AJK-Pertemuan-pertama/blob/master/Uniform_Cost_Search.ipynb\" target=\"_parent\"><img src=\"https://colab.research.google.com/assets/colab-badge.svg\" alt=\"Open In Colab\"/></a>"
      ]
    },
    {
      "cell_type": "markdown",
      "metadata": {
        "id": "6W34u3bNrnZZ"
      },
      "source": [
        "## **Uniform Cost Search**\n",
        "\n",
        "Sumber : https://cyluun.github.io/blog/uninformed-search-algorithms-in-python"
      ]
    },
    {
      "cell_type": "markdown",
      "metadata": {
        "id": "-vsfhIPKWYQG"
      },
      "source": [
        "**Import Data**"
      ]
    },
    {
      "cell_type": "code",
      "metadata": {
        "id": "P52AhCLXWbVX"
      },
      "source": [
        "import pandas as pd"
      ],
      "execution_count": null,
      "outputs": []
    },
    {
      "cell_type": "code",
      "metadata": {
        "colab": {
          "base_uri": "https://localhost:8080/",
          "height": 204
        },
        "id": "DXoj634GXa_G",
        "outputId": "e8df44df-0d53-4d6c-b73b-0e91865678a5"
      },
      "source": [
        "data = pd.read_csv(\"https://raw.githubusercontent.com/arinams/Artificial-Intelligence/main/Romania%20Map.csv\")\n",
        "data.head()"
      ],
      "execution_count": null,
      "outputs": [
        {
          "output_type": "execute_result",
          "data": {
            "text/html": [
              "<div>\n",
              "<style scoped>\n",
              "    .dataframe tbody tr th:only-of-type {\n",
              "        vertical-align: middle;\n",
              "    }\n",
              "\n",
              "    .dataframe tbody tr th {\n",
              "        vertical-align: top;\n",
              "    }\n",
              "\n",
              "    .dataframe thead th {\n",
              "        text-align: right;\n",
              "    }\n",
              "</style>\n",
              "<table border=\"1\" class=\"dataframe\">\n",
              "  <thead>\n",
              "    <tr style=\"text-align: right;\">\n",
              "      <th></th>\n",
              "      <th>Source</th>\n",
              "      <th>Target</th>\n",
              "      <th>Weight</th>\n",
              "    </tr>\n",
              "  </thead>\n",
              "  <tbody>\n",
              "    <tr>\n",
              "      <th>0</th>\n",
              "      <td>Arad</td>\n",
              "      <td>Zerind</td>\n",
              "      <td>75</td>\n",
              "    </tr>\n",
              "    <tr>\n",
              "      <th>1</th>\n",
              "      <td>Arad</td>\n",
              "      <td>Timisoara</td>\n",
              "      <td>118</td>\n",
              "    </tr>\n",
              "    <tr>\n",
              "      <th>2</th>\n",
              "      <td>Arad</td>\n",
              "      <td>Sibiu</td>\n",
              "      <td>140</td>\n",
              "    </tr>\n",
              "    <tr>\n",
              "      <th>3</th>\n",
              "      <td>Zerind</td>\n",
              "      <td>Arad</td>\n",
              "      <td>75</td>\n",
              "    </tr>\n",
              "    <tr>\n",
              "      <th>4</th>\n",
              "      <td>Zerind</td>\n",
              "      <td>Oradea</td>\n",
              "      <td>71</td>\n",
              "    </tr>\n",
              "  </tbody>\n",
              "</table>\n",
              "</div>"
            ],
            "text/plain": [
              "   Source     Target  Weight\n",
              "0    Arad     Zerind      75\n",
              "1    Arad  Timisoara     118\n",
              "2    Arad      Sibiu     140\n",
              "3  Zerind       Arad      75\n",
              "4  Zerind     Oradea      71"
            ]
          },
          "metadata": {
            "tags": []
          },
          "execution_count": 3
        }
      ]
    },
    {
      "cell_type": "markdown",
      "metadata": {
        "id": "ATsSCR3z2PFi"
      },
      "source": [
        "**Mendefinisikan Graph**"
      ]
    },
    {
      "cell_type": "code",
      "metadata": {
        "id": "ErOEnzbU_SgN"
      },
      "source": [
        "class Graph:\n",
        "    def __init__(self):\n",
        "        self.edges = {}\n",
        "        self.weights = {}\n",
        "\n",
        "    def neighbors(self, node):\n",
        "        return self.edges[node]\n",
        "\n",
        "    def get_cost(self, from_node, to_node):\n",
        "        return self.weights[(from_node, to_node)]"
      ],
      "execution_count": null,
      "outputs": []
    },
    {
      "cell_type": "markdown",
      "metadata": {
        "id": "nlueXKi8WdJz"
      },
      "source": [
        "**Merubah Data Menjadi Graph**\n",
        "\n",
        "Sumber : https://www.geeksforgeeks.org/generate-graph-using-dictionary-python/"
      ]
    },
    {
      "cell_type": "code",
      "metadata": {
        "id": "JcNGYN1fWlrw"
      },
      "source": [
        "from collections import defaultdict\n",
        "\n",
        "edges = defaultdict(list)\n",
        "weight = defaultdict(int)\n",
        "\n",
        "def addEdge(edges,u,v):\n",
        "    edges[u].append(v)\n",
        "\n",
        "def addWeight(weight, u, v, w):\n",
        "    weight[u, v] = w\n",
        "\n",
        "for i in range(len(data)):\n",
        "    addEdge(edges,data[\"Source\"][i], data[\"Target\"][i])\n",
        "    addWeight(weight, data[\"Source\"][i], data[\"Target\"][i], data[\"Weight\"][i])\n",
        "\n",
        "graph = Graph()\n",
        "graph.edges = edges\n",
        "graph.weights = weight"
      ],
      "execution_count": null,
      "outputs": []
    },
    {
      "cell_type": "markdown",
      "metadata": {
        "id": "Df9zV5RA2BPc"
      },
      "source": [
        "**Fungsi Uniform Cost Search**\n",
        "\n",
        "1. Masukkan node awal ke dalam queue\n",
        "2. Ulangi selama queue tidak kosong:\n",
        "  -\tHapus elemen berikutnya dengan prioritas tertinggi dari queue\n",
        "  -\tJika node adalah node tujuan, maka cetak cost dan path dan kemudian exit\n",
        "  -\tSelain itu, masukkan semua turunan dari elemen yang dihapus ke dalam antrian dengan biaya kumulatifnya sebagai prioritas mereka.\n"
      ]
    },
    {
      "cell_type": "code",
      "metadata": {
        "id": "wmiD7IBnCjC8"
      },
      "source": [
        "from queue import PriorityQueue"
      ],
      "execution_count": null,
      "outputs": []
    },
    {
      "cell_type": "code",
      "metadata": {
        "id": "pZI02ApeIMo0"
      },
      "source": [
        "def ucs(graph, start, goal):\n",
        "    visited = set()\n",
        "    queue = PriorityQueue()\n",
        "    queue.put((0, start, [start]))\n",
        "\n",
        "    while queue:\n",
        "        cost, node, path = queue.get()\n",
        "        if node not in visited:\n",
        "            print(\"Checking node\", node)\n",
        "            visited.add(node)\n",
        "\n",
        "            if node == goal:\n",
        "                print(\"Destination node found!\")\n",
        "                print(\"Path :\", path)\n",
        "                print(\"Total Cost :\", cost)\n",
        "                return\n",
        "            for i in graph.neighbors(node):\n",
        "                if i not in visited:\n",
        "                    total_cost = cost + graph.get_cost(node, i)\n",
        "                    queue.put((total_cost, i, path + [i]))"
      ],
      "execution_count": null,
      "outputs": []
    },
    {
      "cell_type": "markdown",
      "metadata": {
        "id": "DVP0di5pAMBc"
      },
      "source": [
        "**Fungsi Bidirectional Uniform Cost Search**\n",
        "\n",
        "adalah metode Uniform Cost Search yang menggunakan konsep bidirectional yang secara simultan meng-*expand* node dari dua arah, yaitu node awal dan node tujuan\n",
        "\n",
        "\n",
        "Last Edited : 15 Maret 2021 8.56 PM\n",
        "\n",
        "(Masih mengunjungi node yang sudah dikunjungi)"
      ]
    },
    {
      "cell_type": "code",
      "metadata": {
        "id": "PkmHo0jglBU5"
      },
      "source": [
        "def bducs(graph, start, goal):\n",
        "    visited = set()\n",
        "    active = {start : PriorityQueue(), goal : PriorityQueue()}\n",
        "    active[start].put((0, start, [start]))\n",
        "    active[goal].put((0, goal, [goal]))\n",
        "\n",
        "    while active:\n",
        "        cost1, node1, path1 = active[start].get()\n",
        "        cost2, node2, path2 = active[goal].get()\n",
        "\n",
        "        if (node1, node2) not in visited:\n",
        "            print(\"Checking node\", node1)\n",
        "            visited.add(node1)\n",
        "            print(\"Checking node\", node2)\n",
        "            visited.add(node2) \n",
        "\n",
        "            if node1 == node2:\n",
        "                path2.pop()\n",
        "                print(\"Destination node found!\")\n",
        "                print(\"Path :\", path1 + path2[::-1])\n",
        "                print(\"Total Cost :\", cost1 + cost2)\n",
        "                return\n",
        "        \n",
        "            if node2 in graph.neighbors(node1):            \n",
        "                print(\"Destination node found!\")\n",
        "                print(\"Path :\", path1 + path2[::-1])\n",
        "                print(\"Total Cost :\", cost1 + cost2 + graph.get_cost(node1, node2))\n",
        "                return\n",
        "            \n",
        "            for i in graph.neighbors(node1):\n",
        "                for j in graph.neighbors(node2):\n",
        "                    if j in graph.neighbors(i):\n",
        "                        print(\"Destination node found!\")\n",
        "                        print(\"Path :\", path1 + [i] + [j] + path2[::-1])\n",
        "                        print(\"Total Cost :\", cost1 + cost2 + graph.get_cost(node1, i) + graph.get_cost(node2, j) + graph.get_cost(i, j))\n",
        "                        return\n",
        "                        \n",
        "            for i in graph.neighbors(node1):\n",
        "                if i not in visited:\n",
        "                    total_cost = cost1 + graph.get_cost(node1, i)\n",
        "                    active[start].put((total_cost, i, path1 + [i]))\n",
        "\n",
        "            for i in graph.neighbors(node2):\n",
        "                if i not in visited:\n",
        "                    total_cost = cost2 + graph.get_cost(node2, i)\n",
        "                    active[goal].put((total_cost, i, path2 + [i]))\n",
        "            "
      ],
      "execution_count": null,
      "outputs": []
    },
    {
      "cell_type": "markdown",
      "metadata": {
        "id": "K2xrWSDdBCx1"
      },
      "source": [
        "**Mencari Rute Tercepat dari Kota Arad ke Kota Bucharest**"
      ]
    },
    {
      "cell_type": "code",
      "metadata": {
        "colab": {
          "base_uri": "https://localhost:8080/"
        },
        "id": "DaWfyy7ZCBRu",
        "outputId": "9255d866-8ffe-4ea1-8acf-fa364d139a6c"
      },
      "source": [
        "ucs(graph, 'Arad', 'Bucharest')"
      ],
      "execution_count": null,
      "outputs": [
        {
          "output_type": "stream",
          "text": [
            "Checking node Arad\n",
            "Checking node Zerind\n",
            "Checking node Timisoara\n",
            "Checking node Sibiu\n",
            "Checking node Oradea\n",
            "Checking node Rimnicu Vilcea\n",
            "Checking node Lugoj\n",
            "Checking node Fagaras\n",
            "Checking node Mehadia\n",
            "Checking node Pitesti\n",
            "Checking node Craiova\n",
            "Checking node Dobreta\n",
            "Checking node Bucharest\n",
            "Destination node found!\n",
            "Path : ['Arad', 'Sibiu', 'Rimnicu Vilcea', 'Pitesti', 'Bucharest']\n",
            "Total Cost : 418\n"
          ],
          "name": "stdout"
        }
      ]
    },
    {
      "cell_type": "code",
      "metadata": {
        "colab": {
          "base_uri": "https://localhost:8080/"
        },
        "id": "DnOk_hZL7_xd",
        "outputId": "f20c7acb-d94d-4661-a7e8-4e2c2a25a0f3"
      },
      "source": [
        "bducs(graph, 'Arad', 'Bucharest')"
      ],
      "execution_count": null,
      "outputs": [
        {
          "output_type": "stream",
          "text": [
            "Checking node Arad\n",
            "Checking node Bucharest\n",
            "Checking node Zerind\n",
            "Checking node Urziceni\n",
            "Checking node Timisoara\n",
            "Checking node Giurgiu\n",
            "Checking node Sibiu\n",
            "Checking node Pitesti\n",
            "Checking node Oradea\n",
            "Checking node Hirsova\n",
            "Checking node Rimnicu Vilcea\n",
            "Checking node Rimnicu Vilcea\n",
            "Destination node found!\n",
            "Path : ['Arad', 'Sibiu', 'Rimnicu Vilcea', 'Pitesti', 'Bucharest']\n",
            "Total Cost : 418\n"
          ],
          "name": "stdout"
        }
      ]
    },
    {
      "cell_type": "markdown",
      "metadata": {
        "id": "MRRiJLv6BLda"
      },
      "source": [
        "**Mencari Rute Tercepat dari Kota Arad ke Kota Iasi**"
      ]
    },
    {
      "cell_type": "code",
      "metadata": {
        "colab": {
          "base_uri": "https://localhost:8080/"
        },
        "id": "m7SvdHDrA_td",
        "outputId": "138ae7a2-78b7-4816-a88a-c688c55e4bc2"
      },
      "source": [
        "ucs(graph, 'Arad', 'Iasi')"
      ],
      "execution_count": null,
      "outputs": [
        {
          "output_type": "stream",
          "text": [
            "Checking node Arad\n",
            "Checking node Zerind\n",
            "Checking node Timisoara\n",
            "Checking node Sibiu\n",
            "Checking node Oradea\n",
            "Checking node Rimnicu Vilcea\n",
            "Checking node Lugoj\n",
            "Checking node Fagaras\n",
            "Checking node Mehadia\n",
            "Checking node Pitesti\n",
            "Checking node Craiova\n",
            "Checking node Dobreta\n",
            "Checking node Bucharest\n",
            "Checking node Urziceni\n",
            "Checking node Giurgiu\n",
            "Checking node Hirsova\n",
            "Checking node Vaslui\n",
            "Checking node Eforie\n",
            "Checking node Iasi\n",
            "Destination node found!\n",
            "Path : ['Arad', 'Sibiu', 'Rimnicu Vilcea', 'Pitesti', 'Bucharest', 'Urziceni', 'Vaslui', 'Iasi']\n",
            "Total Cost : 737\n"
          ],
          "name": "stdout"
        }
      ]
    },
    {
      "cell_type": "code",
      "metadata": {
        "colab": {
          "base_uri": "https://localhost:8080/"
        },
        "id": "xWfSWFO-BAC5",
        "outputId": "2dd3055b-e3c3-4238-e176-ecfe21962b7b"
      },
      "source": [
        "bducs(graph, 'Arad', 'Iasi')"
      ],
      "execution_count": null,
      "outputs": [
        {
          "output_type": "stream",
          "text": [
            "Checking node Arad\n",
            "Checking node Iasi\n",
            "Checking node Zerind\n",
            "Checking node Neamt\n",
            "Checking node Timisoara\n",
            "Checking node Vaslui\n",
            "Checking node Sibiu\n",
            "Checking node Urziceni\n",
            "Checking node Oradea\n",
            "Checking node Bucharest\n",
            "Checking node Rimnicu Vilcea\n",
            "Checking node Hirsova\n",
            "Checking node Lugoj\n",
            "Checking node Giurgiu\n",
            "Checking node Fagaras\n",
            "Checking node Eforie\n",
            "Checking node Oradea\n",
            "Checking node Pitesti\n",
            "Checking node Mehadia\n",
            "Checking node Fagaras\n",
            "Checking node Pitesti\n",
            "Checking node Craiova\n",
            "Destination node found!\n",
            "Path : ['Arad', 'Sibiu', 'Rimnicu Vilcea', 'Pitesti', 'Craiova', 'Pitesti', 'Bucharest', 'Urziceni', 'Vaslui', 'Iasi']\n",
            "Total Cost : 1013\n"
          ],
          "name": "stdout"
        }
      ]
    }
  ]
}